{
 "cells": [
  {
   "cell_type": "code",
   "execution_count": 1,
   "metadata": {},
   "outputs": [
    {
     "name": "stdout",
     "output_type": "stream",
     "text": [
      "['audi', 'bmw', 'honda', 'landrover', 'skoda', 'hyundai']\n"
     ]
    }
   ],
   "source": [
    "#Organizing the list\n",
    "\n",
    "cars = ['audi', 'bmw', 'honda', 'landrover', 'skoda', 'hyundai']\n",
    "print(cars)\n"
   ]
  },
  {
   "cell_type": "code",
   "execution_count": 2,
   "metadata": {},
   "outputs": [
    {
     "name": "stdout",
     "output_type": "stream",
     "text": [
      "['audi', 'bmw', 'honda', 'hyundai', 'landrover', 'skoda']\n"
     ]
    }
   ],
   "source": [
    "cars.sort()\n",
    "print(cars)"
   ]
  },
  {
   "cell_type": "code",
   "execution_count": 44,
   "metadata": {},
   "outputs": [
    {
     "data": {
      "text/plain": [
       "list"
      ]
     },
     "execution_count": 44,
     "metadata": {},
     "output_type": "execute_result"
    }
   ],
   "source": [
    "\n",
    "type(cars)\n"
   ]
  },
  {
   "cell_type": "code",
   "execution_count": 5,
   "metadata": {},
   "outputs": [
    {
     "name": "stdout",
     "output_type": "stream",
     "text": [
      "['skoda', 'landrover', 'hyundai', 'honda', 'bmw', 'audi']\n"
     ]
    }
   ],
   "source": [
    "cars.sort(reverse = True)\n",
    "print(cars)"
   ]
  },
  {
   "cell_type": "code",
   "execution_count": 6,
   "metadata": {},
   "outputs": [
    {
     "name": "stdout",
     "output_type": "stream",
     "text": [
      "['Bhavani', 'Priya', 'Sravya', 'Bhargavi']\n"
     ]
    }
   ],
   "source": [
    "#Loops in Python\n",
    "students = ['Bhavani', 'Priya', 'Sravya', 'Bhargavi']\n",
    "print(students)"
   ]
  },
  {
   "cell_type": "code",
   "execution_count": 23,
   "metadata": {},
   "outputs": [
    {
     "name": "stdout",
     "output_type": "stream",
     "text": [
      "Bhavani\n",
      "Priya\n",
      "Sravya\n",
      "Bhargavi\n"
     ]
    }
   ],
   "source": [
    "students = ['Bhavani', 'Priya', 'Sravya', 'Bhargavi']\n",
    "for x in students:\n",
    "    \n",
    "    print(x)"
   ]
  },
  {
   "cell_type": "markdown",
   "metadata": {},
   "source": []
  },
  {
   "cell_type": "code",
   "execution_count": 42,
   "metadata": {},
   "outputs": [
    {
     "name": "stdout",
     "output_type": "stream",
     "text": [
      "Bhavani, Keep it up\n",
      "Priya, Keep it up\n",
      "Sravya, Keep it up\n",
      "Bhargavi, Keep it up\n"
     ]
    }
   ],
   "source": [
    "students = ['Bhavani', 'Priya', 'Sravya', 'Bhargavi']\n",
    "for x in students:\n",
    "   print(f\"{x}, Keep it up\")"
   ]
  },
  {
   "cell_type": "code",
   "execution_count": 31,
   "metadata": {},
   "outputs": [
    {
     "name": "stdout",
     "output_type": "stream",
     "text": [
      "['audi', 'bmw', 'honda', 'hyundai', 'landrover', 'skoda']\n"
     ]
    }
   ],
   "source": [
    "cars = ['audi', 'bmw', 'honda', 'landrover', 'skoda', 'hyundai']\n",
    "cars.sort()\n",
    "print(cars)"
   ]
  },
  {
   "cell_type": "code",
   "execution_count": 33,
   "metadata": {},
   "outputs": [
    {
     "name": "stdout",
     "output_type": "stream",
     "text": [
      "['audi', 'bmw', 'honda', 'hyundai', 'landrover', 'skoda']\n"
     ]
    }
   ],
   "source": [
    "cars = ['audi', 'bmw', 'honda', 'landrover', 'skoda', 'hyundai']\n",
    "print(sorted(cars))"
   ]
  },
  {
   "cell_type": "code",
   "execution_count": 43,
   "metadata": {},
   "outputs": [
    {
     "name": "stdout",
     "output_type": "stream",
     "text": [
      "['skoda', 'landrover', 'hyundai', 'honda', 'bmw', 'audi']\n"
     ]
    }
   ],
   "source": [
    "cars = ['audi', 'bmw', 'honda', 'landrover', 'skoda', 'hyundai']\n",
    "print(sorted(cars, reverse = True))"
   ]
  },
  {
   "cell_type": "code",
   "execution_count": null,
   "metadata": {},
   "outputs": [],
   "source": []
  }
 ],
 "metadata": {
  "kernelspec": {
   "display_name": "Python 3",
   "language": "python",
   "name": "python3"
  },
  "language_info": {
   "codemirror_mode": {
    "name": "ipython",
    "version": 3
   },
   "file_extension": ".py",
   "mimetype": "text/x-python",
   "name": "python",
   "nbconvert_exporter": "python",
   "pygments_lexer": "ipython3",
   "version": "3.7.3"
  }
 },
 "nbformat": 4,
 "nbformat_minor": 2
}
