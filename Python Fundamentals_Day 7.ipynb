{
 "cells": [
  {
   "cell_type": "code",
   "execution_count": 3,
   "metadata": {},
   "outputs": [
    {
     "name": "stdout",
     "output_type": "stream",
     "text": [
      "{'Color': 'green', 'points': 5, 'x_position': 0, 'Y_position': 25}\n"
     ]
    }
   ],
   "source": [
    "Alien = {'Color':'green', 'points':5 }\n",
    "Alien['x_position'] = 0\n",
    "Alien['Y_position'] = 25\n",
    "print(Alien)"
   ]
  },
  {
   "cell_type": "code",
   "execution_count": 11,
   "metadata": {},
   "outputs": [
    {
     "name": "stdout",
     "output_type": "stream",
     "text": [
      "The alien is in Yellow\n"
     ]
    }
   ],
   "source": [
    "Alien = {'Color':'green', 'points':5 } \n",
    "Alien['color'] = 'Yellow'\n",
    "print(f\"The alien is in {Alien['color']}\")"
   ]
  },
  {
   "cell_type": "code",
   "execution_count": 13,
   "metadata": {},
   "outputs": [
    {
     "name": "stdout",
     "output_type": "stream",
     "text": [
      "{'Color': 'green'}\n"
     ]
    }
   ],
   "source": [
    "#Deleting Key Value pair\n",
    "Alien = {'Color':'green', 'points':5 } \n",
    "del(Alien['points'])\n",
    "print(Alien)"
   ]
  },
  {
   "cell_type": "code",
   "execution_count": 22,
   "metadata": {},
   "outputs": [
    {
     "name": "stdout",
     "output_type": "stream",
     "text": [
      "\n",
      "Key:Username\n",
      "\n",
      "Value:XYZ\n",
      "\n",
      "Key:first_name\n",
      "\n",
      "Value:X\n",
      "\n",
      "Key:last_name\n",
      "\n",
      "Value:YZ\n"
     ]
    }
   ],
   "source": [
    "#Looping through the dict\n",
    "users = {'Username' : 'XYZ', 'first_name' : 'X', 'last_name' : 'YZ'}\n",
    "for k,v in users.items():\n",
    "    print(f\"\\nKey:{k}\")\n",
    "    print(f\"\\nValue:{v}\")\n"
   ]
  },
  {
   "cell_type": "code",
   "execution_count": null,
   "metadata": {},
   "outputs": [],
   "source": []
  }
 ],
 "metadata": {
  "kernelspec": {
   "display_name": "Python 3",
   "language": "python",
   "name": "python3"
  },
  "language_info": {
   "codemirror_mode": {
    "name": "ipython",
    "version": 3
   },
   "file_extension": ".py",
   "mimetype": "text/x-python",
   "name": "python",
   "nbconvert_exporter": "python",
   "pygments_lexer": "ipython3",
   "version": "3.7.3"
  }
 },
 "nbformat": 4,
 "nbformat_minor": 2
}
