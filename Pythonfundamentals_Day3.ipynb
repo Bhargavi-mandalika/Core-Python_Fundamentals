{
 "cells": [
  {
   "cell_type": "code",
   "execution_count": 23,
   "metadata": {},
   "outputs": [
    {
     "name": "stdout",
     "output_type": "stream",
     "text": [
      "['Arnold', 'Messi', 'Sachin', 'Sindhu', 'Sania']\n"
     ]
    }
   ],
   "source": [
    "#Creating a list\n",
    "\n",
    "students = ['Arnold', 'Messi', 'Sachin', 'Sindhu', 'Sania']\n",
    "print(students)"
   ]
  },
  {
   "cell_type": "code",
   "execution_count": 24,
   "metadata": {},
   "outputs": [
    {
     "data": {
      "text/plain": [
       "list"
      ]
     },
     "execution_count": 24,
     "metadata": {},
     "output_type": "execute_result"
    }
   ],
   "source": [
    "type(students)"
   ]
  },
  {
   "cell_type": "code",
   "execution_count": 25,
   "metadata": {},
   "outputs": [
    {
     "data": {
      "text/plain": [
       "'Arnold'"
      ]
     },
     "execution_count": 25,
     "metadata": {},
     "output_type": "execute_result"
    }
   ],
   "source": [
    "#Indexing the elements in a list\n",
    "students[0]"
   ]
  },
  {
   "cell_type": "code",
   "execution_count": 26,
   "metadata": {},
   "outputs": [
    {
     "data": {
      "text/plain": [
       "'Sindhu'"
      ]
     },
     "execution_count": 26,
     "metadata": {},
     "output_type": "execute_result"
    }
   ],
   "source": [
    "students[3]"
   ]
  },
  {
   "cell_type": "code",
   "execution_count": 27,
   "metadata": {},
   "outputs": [
    {
     "name": "stdout",
     "output_type": "stream",
     "text": [
      "arnold\n"
     ]
    }
   ],
   "source": [
    "#changing to lower case\n",
    "print(students[0].lower())"
   ]
  },
  {
   "cell_type": "code",
   "execution_count": 29,
   "metadata": {},
   "outputs": [
    {
     "name": "stdout",
     "output_type": "stream",
     "text": [
      "Great spirit Sindhu,yaay!\n"
     ]
    }
   ],
   "source": [
    "message = f\"Great spirit {students[3]},yaay!\"\n",
    "print(message)"
   ]
  },
  {
   "cell_type": "code",
   "execution_count": 32,
   "metadata": {},
   "outputs": [
    {
     "name": "stdout",
     "output_type": "stream",
     "text": [
      "['Arnold', 'Virat', 'Sachin', 'Sindhu', 'Sania']\n"
     ]
    }
   ],
   "source": [
    "#changing the elements in the list\n",
    "\n",
    "students[1] = 'Virat'\n",
    "print(students)"
   ]
  },
  {
   "cell_type": "code",
   "execution_count": 38,
   "metadata": {},
   "outputs": [
    {
     "name": "stdout",
     "output_type": "stream",
     "text": [
      "['Arnold', 'Virat', 'Sachin', 'Sindhu', 'Sania', 'Punia', 'Bajrang', 'Bajrang']\n"
     ]
    }
   ],
   "source": [
    "#adding element in the list\n",
    "\n",
    "students.append('Bajrang')\n",
    "print(students)"
   ]
  },
  {
   "cell_type": "code",
   "execution_count": 41,
   "metadata": {},
   "outputs": [
    {
     "name": "stdout",
     "output_type": "stream",
     "text": [
      "['Arnold', 'Virat', 'Sachin', 'Sindhu', 'Punia', 'Bajrang']\n"
     ]
    }
   ],
   "source": [
    "#removing elements from the list\n",
    "del students[5]\n",
    "print(students)"
   ]
  },
  {
   "cell_type": "code",
   "execution_count": 43,
   "metadata": {},
   "outputs": [
    {
     "name": "stdout",
     "output_type": "stream",
     "text": [
      "['Arnold', 'Virat', 'Sachin', 'Sindhu', 'Sania', 'Punia', 'Bajrang']\n"
     ]
    }
   ],
   "source": [
    "students.insert(4, 'Sania')\n",
    "print(students)"
   ]
  },
  {
   "cell_type": "code",
   "execution_count": 44,
   "metadata": {},
   "outputs": [
    {
     "name": "stdout",
     "output_type": "stream",
     "text": [
      "['Arnold', 'Virat', 'Sachin', 'Sindhu', 'Sania', 'Punia']\n"
     ]
    }
   ],
   "source": [
    "#pop() method\n",
    "students.pop()\n",
    "print(students)"
   ]
  },
  {
   "cell_type": "code",
   "execution_count": 45,
   "metadata": {},
   "outputs": [
    {
     "name": "stdout",
     "output_type": "stream",
     "text": [
      "['Arnold', 'Virat', 'Sachin', 'Sindhu', 'Sania']\n"
     ]
    }
   ],
   "source": [
    "#removing specific element\n",
    "students.pop(5)\n",
    "print(students)"
   ]
  },
  {
   "cell_type": "code",
   "execution_count": null,
   "metadata": {},
   "outputs": [],
   "source": []
  }
 ],
 "metadata": {
  "kernelspec": {
   "display_name": "Python 3",
   "language": "python",
   "name": "python3"
  },
  "language_info": {
   "codemirror_mode": {
    "name": "ipython",
    "version": 3
   },
   "file_extension": ".py",
   "mimetype": "text/x-python",
   "name": "python",
   "nbconvert_exporter": "python",
   "pygments_lexer": "ipython3",
   "version": "3.7.3"
  }
 },
 "nbformat": 4,
 "nbformat_minor": 2
}
